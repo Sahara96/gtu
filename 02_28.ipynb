{
 "cells": [
  {
   "cell_type": "code",
   "execution_count": 1,
   "id": "32fbaba7",
   "metadata": {},
   "outputs": [],
   "source": [
    "import numpy as np"
   ]
  },
  {
   "cell_type": "code",
   "execution_count": 2,
   "id": "82ef4ebd",
   "metadata": {},
   "outputs": [],
   "source": [
    "import pandas as pd"
   ]
  },
  {
   "cell_type": "code",
   "execution_count": 4,
   "id": "4004ff85",
   "metadata": {},
   "outputs": [],
   "source": [
    "cric = pd.read_csv('cric.tsv')"
   ]
  },
  {
   "cell_type": "code",
   "execution_count": 5,
   "id": "0658d76a",
   "metadata": {},
   "outputs": [
    {
     "data": {
      "text/html": [
       "<div>\n",
       "<style scoped>\n",
       "    .dataframe tbody tr th:only-of-type {\n",
       "        vertical-align: middle;\n",
       "    }\n",
       "\n",
       "    .dataframe tbody tr th {\n",
       "        vertical-align: top;\n",
       "    }\n",
       "\n",
       "    .dataframe thead th {\n",
       "        text-align: right;\n",
       "    }\n",
       "</style>\n",
       "<table border=\"1\" class=\"dataframe\">\n",
       "  <thead>\n",
       "    <tr style=\"text-align: right;\">\n",
       "      <th></th>\n",
       "      <th>Index\\tSachin\\tDravid\\tIndia</th>\n",
       "    </tr>\n",
       "  </thead>\n",
       "  <tbody>\n",
       "    <tr>\n",
       "      <th>0</th>\n",
       "      <td>0\\t100\\t78\\t342</td>\n",
       "    </tr>\n",
       "    <tr>\n",
       "      <th>1</th>\n",
       "      <td>1\\t11\\t62\\t191</td>\n",
       "    </tr>\n",
       "    <tr>\n",
       "      <th>2</th>\n",
       "      <td>2\\t8\\t85\\t252</td>\n",
       "    </tr>\n",
       "    <tr>\n",
       "      <th>3</th>\n",
       "      <td>3\\t71\\t24\\t307</td>\n",
       "    </tr>\n",
       "    <tr>\n",
       "      <th>4</th>\n",
       "      <td>4\\t104\\t17\\t229</td>\n",
       "    </tr>\n",
       "  </tbody>\n",
       "</table>\n",
       "</div>"
      ],
      "text/plain": [
       "  Index\\tSachin\\tDravid\\tIndia\n",
       "0              0\\t100\\t78\\t342\n",
       "1               1\\t11\\t62\\t191\n",
       "2                2\\t8\\t85\\t252\n",
       "3               3\\t71\\t24\\t307\n",
       "4              4\\t104\\t17\\t229"
      ]
     },
     "execution_count": 5,
     "metadata": {},
     "output_type": "execute_result"
    }
   ],
   "source": [
    "cric.head()"
   ]
  },
  {
   "cell_type": "code",
   "execution_count": 6,
   "id": "963af26b",
   "metadata": {},
   "outputs": [],
   "source": [
    "file = np.loadtxt('cric.tsv',skiprows=1)"
   ]
  },
  {
   "cell_type": "code",
   "execution_count": 7,
   "id": "596b8fa5",
   "metadata": {},
   "outputs": [
    {
     "data": {
      "text/plain": [
       "array([[  0., 100.,  78., 342.],\n",
       "       [  1.,  11.,  62., 191.],\n",
       "       [  2.,   8.,  85., 252.],\n",
       "       [  3.,  71.,  24., 307.],\n",
       "       [  4., 104.,  17., 229.],\n",
       "       [  5.,  18., 104., 246.],\n",
       "       [  6.,   8.,  76., 226.],\n",
       "       [  7.,  86.,  74., 288.],\n",
       "       [  8.,  12.,  60., 216.],\n",
       "       [  9.,  25.,  90., 304.],\n",
       "       [ 10.,  56.,   6., 272.],\n",
       "       [ 11.,  88.,  69., 302.],\n",
       "       [ 12., 147.,  65., 312.],\n",
       "       [ 13., 121., 146., 370.],\n",
       "       [ 15.,  99., 110., 362.]])"
      ]
     },
     "execution_count": 7,
     "metadata": {},
     "output_type": "execute_result"
    }
   ],
   "source": [
    "file"
   ]
  },
  {
   "cell_type": "code",
   "execution_count": 9,
   "id": "5e7189b0",
   "metadata": {},
   "outputs": [
    {
     "name": "stdout",
     "output_type": "stream",
     "text": [
      "63.6\n"
     ]
    }
   ],
   "source": [
    "sachinMean = file[:,1].mean()\n",
    "print(sachinMean)"
   ]
  },
  {
   "cell_type": "code",
   "execution_count": 10,
   "id": "12db97d3",
   "metadata": {},
   "outputs": [
    {
     "name": "stdout",
     "output_type": "stream",
     "text": [
      "71.06666666666666\n"
     ]
    }
   ],
   "source": [
    "dravidMean = file[:,2].mean()\n",
    "print(dravidMean)"
   ]
  },
  {
   "cell_type": "code",
   "execution_count": 11,
   "id": "643e14fd",
   "metadata": {},
   "outputs": [
    {
     "name": "stdout",
     "output_type": "stream",
     "text": [
      "281.26666666666665\n"
     ]
    }
   ],
   "source": [
    "indiaMean = file[:,3].mean()\n",
    "print(indiaMean)"
   ]
  },
  {
   "cell_type": "code",
   "execution_count": 13,
   "id": "3bb311a9",
   "metadata": {},
   "outputs": [
    {
     "name": "stdout",
     "output_type": "stream",
     "text": [
      "sachinMedian 71.0\n"
     ]
    }
   ],
   "source": [
    "print('sachinMedian',np.median(file[:,1]))"
   ]
  },
  {
   "cell_type": "code",
   "execution_count": 14,
   "id": "03599c5e",
   "metadata": {},
   "outputs": [
    {
     "name": "stdout",
     "output_type": "stream",
     "text": [
      "dravidMedian 74.0\n"
     ]
    }
   ],
   "source": [
    "print('dravidMedian',np.median(file[:,2]))"
   ]
  },
  {
   "cell_type": "code",
   "execution_count": 15,
   "id": "b6ebf67d",
   "metadata": {},
   "outputs": [
    {
     "name": "stdout",
     "output_type": "stream",
     "text": [
      "indiaMedian 288.0\n"
     ]
    }
   ],
   "source": [
    "print('indiaMedian',np.median(file[:,3]))"
   ]
  },
  {
   "cell_type": "code",
   "execution_count": null,
   "id": "97eae4c1",
   "metadata": {},
   "outputs": [],
   "source": []
  }
 ],
 "metadata": {
  "kernelspec": {
   "display_name": "Python 3 (ipykernel)",
   "language": "python",
   "name": "python3"
  },
  "language_info": {
   "codemirror_mode": {
    "name": "ipython",
    "version": 3
   },
   "file_extension": ".py",
   "mimetype": "text/x-python",
   "name": "python",
   "nbconvert_exporter": "python",
   "pygments_lexer": "ipython3",
   "version": "3.9.13"
  }
 },
 "nbformat": 4,
 "nbformat_minor": 5
}
